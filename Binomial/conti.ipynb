{
 "cells": [
  {
   "cell_type": "code",
   "execution_count": 1,
   "metadata": {},
   "outputs": [],
   "source": [
    "import numpy as np"
   ]
  },
  {
   "cell_type": "code",
   "execution_count": 36,
   "metadata": {},
   "outputs": [
    {
     "data": {
      "text/plain": [
       "(array([[0, 0, 0, 1, 0],\n",
       "        [1, 1, 0, 0, 1],\n",
       "        [0, 0, 0, 0, 0],\n",
       "        [0, 0, 0, 0, 1],\n",
       "        [1, 0, 1, 0, 1],\n",
       "        [0, 1, 0, 0, 0],\n",
       "        [0, 0, 0, 0, 0],\n",
       "        [0, 0, 0, 0, 0],\n",
       "        [0, 1, 0, 0, 0],\n",
       "        [0, 0, 0, 0, 0]]),\n",
       " array([[0, 1, 0, 0, 0],\n",
       "        [0, 1, 0, 1, 0],\n",
       "        [1, 1, 0, 1, 0],\n",
       "        [1, 2, 0, 1, 0],\n",
       "        [1, 2, 0, 2, 0],\n",
       "        [1, 3, 0, 2, 0],\n",
       "        [2, 3, 0, 2, 0],\n",
       "        [3, 3, 0, 2, 0],\n",
       "        [3, 4, 0, 2, 0],\n",
       "        [4, 4, 0, 2, 0]]))"
      ]
     },
     "execution_count": 36,
     "metadata": {},
     "output_type": "execute_result"
    }
   ],
   "source": [
    "p = 0.2\n",
    "n = 4\n",
    "N = 10\n",
    "results = np.random.binomial(1,p,(N,n+1))\n",
    "data = np.zeros_like(results)\n",
    "for i in range(N):\n",
    "  for j in range(n+1):\n",
    "    data[i,j] = np.sum(results[0:i+1,:].sum(axis=1) == j)\n",
    "results, data"
   ]
  },
  {
   "cell_type": "code",
   "execution_count": null,
   "metadata": {},
   "outputs": [],
   "source": []
  }
 ],
 "metadata": {
  "kernelspec": {
   "display_name": "Python 3",
   "language": "python",
   "name": "python3"
  },
  "language_info": {
   "codemirror_mode": {
    "name": "ipython",
    "version": 3
   },
   "file_extension": ".py",
   "mimetype": "text/x-python",
   "name": "python",
   "nbconvert_exporter": "python",
   "pygments_lexer": "ipython3",
   "version": "3.11.1"
  }
 },
 "nbformat": 4,
 "nbformat_minor": 2
}
